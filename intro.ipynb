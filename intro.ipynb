{
 "cells": [
  {
   "cell_type": "markdown",
   "id": "a6c1bb12",
   "metadata": {},
   "source": [
    "# Tarea 01 - Abner Lugo - Python Sabatino"
   ]
  },
  {
   "cell_type": "markdown",
   "id": "65e3743d",
   "metadata": {},
   "source": [
    "### Abre jupyter notebook y en el archivo \"intro.ipynb\" realiza lo siguiente:\n",
    "### Construye un programa que pregunte el nombre,sexo, edad, mail y ocupación del usuario.\n",
    "#### Guarda esa información en una lista."
   ]
  },
  {
   "cell_type": "code",
   "execution_count": 1,
   "id": "943aa3a8",
   "metadata": {},
   "outputs": [
    {
     "name": "stdout",
     "output_type": "stream",
     "text": [
      "Dime cúal es tu nombre: Abner\n",
      "Dime cuál es tu sexo h/m: m\n",
      "Dime cuál es tu edad: 25\n",
      "Ingresa cuál es tu correo electrónico: abner.lugoo@gmail.com\n",
      "Ingresa cuál es tu ocupación: Economista\n"
     ]
    }
   ],
   "source": [
    "nombre = str(input('Dime cúal es tu nombre: '))\n",
    "sexo = str(input('Dime cuál es tu sexo h/m: '))\n",
    "edad = int(input('Dime cuál es tu edad: '))\n",
    "mail = str(input('Ingresa cuál es tu correo electrónico: '))\n",
    "ocupación = str(input('Ingresa cuál es tu ocupación: '))\n",
    "\n",
    "lista = [nombre,sexo,edad,mail,ocupación]\n",
    "\n",
    "#fin del programa"
   ]
  },
  {
   "cell_type": "markdown",
   "id": "3779884b",
   "metadata": {},
   "source": [
    "### Trabajo 4. En el mismo archivo \"intro.ipynb\" crea un programa que pregunte al usuario su salario mensual. Con esa información, calcula la disposición de dinero semanal, semestral y anual del usuario"
   ]
  },
  {
   "cell_type": "code",
   "execution_count": 3,
   "id": "329012e1",
   "metadata": {},
   "outputs": [
    {
     "name": "stdout",
     "output_type": "stream",
     "text": [
      "Ingresa tu salario mensual: 25000\n",
      "Tu disposición semanal de dinero es de: 6250.0\n",
      "Tu disposición semestral de dinero es de: 150000\n",
      "Tu disposición anual de dinero es de: 300000\n"
     ]
    }
   ],
   "source": [
    "salario = int(input('Ingresa tu salario mensual: '))\n",
    "\n",
    "print(f'Tu disposición semanal de dinero es de: {salario/4}')\n",
    "print(f'Tu disposición semestral de dinero es de: {salario*6}')\n",
    "print(f'Tu disposición anual de dinero es de: {salario*12}')\n",
    "\n",
    "#fin del programa"
   ]
  },
  {
   "cell_type": "markdown",
   "id": "07a743dc",
   "metadata": {},
   "source": [
    "### Trabajo 5. En el mismo archivo \"intro.ipynb\" crea un archivo que calcule el costo final de un préstamo, dada una tasa de interés simple anual y un periodo de tiempo."
   ]
  },
  {
   "cell_type": "code",
   "execution_count": 4,
   "id": "5cc7d8ac",
   "metadata": {},
   "outputs": [
    {
     "name": "stdout",
     "output_type": "stream",
     "text": [
      "¿Cuánto dinero necesitas?: 250000\n",
      "¿En cuántos meses deseas liquidar tu préstamo?: 20\n",
      "La tasa de interés es del 10% mensual\n",
      "El préstamos solicitado por la cantidad de:  250000 será liquidado en  20 meses a partir del día de hoy\n",
      "por lo tanto, terminarás pagando:  275000.00000000006 pesos\n"
     ]
    }
   ],
   "source": [
    "prestamo = int(input('¿Cuánto dinero necesitas?: '))\n",
    "meses = int(input('¿En cuántos meses deseas liquidar tu préstamo?: '))\n",
    "pagos = (prestamo/meses)*1.10\n",
    "x=pagos*meses\n",
    "\n",
    "print('La tasa de interés es del 10% mensual')\n",
    "\n",
    "\n",
    "print('El préstamos solicitado por la cantidad de: ', prestamo, 'será liquidado en ', meses, 'meses a partir del día de hoy')\n",
    "print('por lo tanto, terminarás pagando: ',x, 'pesos')"
   ]
  },
  {
   "cell_type": "markdown",
   "id": "162a4dab",
   "metadata": {},
   "source": [
    "### Trabajo 6. En el mismo archivo \"intro.ipynb\" crea un programa que:\n",
    "#### - pregunte al usuario si desea calcular el área de un cuadrado, tríangulo, círculo o rectangulo.\n",
    "#### - dependiendo de la figura escogida, pedir al usuario las medidas necesarias para calcular el área.\n",
    "#### - devolver el área de la figura."
   ]
  },
  {
   "cell_type": "code",
   "execution_count": 5,
   "id": "34050bf5",
   "metadata": {},
   "outputs": [
    {
     "name": "stdout",
     "output_type": "stream",
     "text": [
      "Este programa permite calcular el área de un cuadrado, de un tríangulo, de un círculo o de un rectángulo\n",
      "¿de qué figura te gustaría calcular el área?: cuadrado\n",
      "Indícame cuál es el lado del cuadrado: 20\n",
      "El área del cuadrado es igual a:  400\n"
     ]
    }
   ],
   "source": [
    "figuras=['cuadrado','tríangulo','círculo','rectángulo']\n",
    "\n",
    "print('Este programa permite calcular el área de un cuadrado, de un tríangulo, de un círculo o de un rectángulo')\n",
    "ans = str(input('¿de qué figura te gustaría calcular el área?: '))\n",
    "\n",
    "if ans == 'cuadrado':\n",
    "    lado = int(input('Indícame cuál es el lado del cuadrado: '))\n",
    "    areac = lado*lado\n",
    "    print('El área del cuadrado es igual a: ',areac)\n",
    "\n",
    "if ans == 'tríangulo':\n",
    "    base = int(input('Indícame cuál es la base del tríangulo: '))\n",
    "    altura = int(input('Indícame cuál es la altura del tríangulo: '))\n",
    "    areat = (base*altura)/2\n",
    "    print('El área del tríangulo es igual a: ',areat)\n",
    "    \n",
    "if ans == 'rectángulo':\n",
    "    mayor = int(input('Indícame cuál es el lado mayor del rectángulo: '))\n",
    "    menor = int(input('Indícame cuál es el lado menor del rectángulo: '))\n",
    "    arear = (mayor*menor)\n",
    "    print('El área del rectángulo es igual a: ',arear)\n",
    "    \n",
    "if ans == 'círculo':\n",
    "    radio = int(input('Indícame cuál es el radio del círculo: '))\n",
    "    areaci = (3.1416*(radio*radio))\n",
    "    print('El área del círculo es igual a: ',areaci)"
   ]
  },
  {
   "cell_type": "code",
   "execution_count": null,
   "id": "9b98677c",
   "metadata": {},
   "outputs": [],
   "source": []
  }
 ],
 "metadata": {
  "kernelspec": {
   "display_name": "Python 3 (ipykernel)",
   "language": "python",
   "name": "python3"
  },
  "language_info": {
   "codemirror_mode": {
    "name": "ipython",
    "version": 3
   },
   "file_extension": ".py",
   "mimetype": "text/x-python",
   "name": "python",
   "nbconvert_exporter": "python",
   "pygments_lexer": "ipython3",
   "version": "3.10.9"
  }
 },
 "nbformat": 4,
 "nbformat_minor": 5
}
