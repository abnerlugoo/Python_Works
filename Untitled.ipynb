{
 "cells": [
  {
   "cell_type": "markdown",
   "id": "27ff4bbc",
   "metadata": {},
   "source": [
    "# Repaso Curso Zero2Hero - Notas Abner\n",
    "\n",
    "## Clase 02: \n",
    "### Variables: "
   ]
  },
  {
   "cell_type": "code",
   "execution_count": 1,
   "id": "a1691d10",
   "metadata": {},
   "outputs": [],
   "source": [
    "#ejemplo de variables numéricas:"
   ]
  },
  {
   "cell_type": "code",
   "execution_count": 5,
   "id": "bc7e19b4",
   "metadata": {},
   "outputs": [],
   "source": [
    "x = 5 #creamos un par de variables"
   ]
  },
  {
   "cell_type": "code",
   "execution_count": 6,
   "id": "c5714f37",
   "metadata": {},
   "outputs": [],
   "source": [
    "y = 10"
   ]
  },
  {
   "cell_type": "code",
   "execution_count": 9,
   "id": "86b39d5a",
   "metadata": {},
   "outputs": [
    {
     "data": {
      "text/plain": [
       "15"
      ]
     },
     "execution_count": 9,
     "metadata": {},
     "output_type": "execute_result"
    }
   ],
   "source": [
    "x+y #posteriormente, con las variables guardadas, solicitamos operación"
   ]
  },
  {
   "cell_type": "code",
   "execution_count": 10,
   "id": "4855239b",
   "metadata": {},
   "outputs": [],
   "source": [
    "a = 10\n",
    "b = 'abner' #Creamos una variable numérica y una que no lo es"
   ]
  },
  {
   "cell_type": "code",
   "execution_count": 12,
   "id": "a716bf7f",
   "metadata": {},
   "outputs": [
    {
     "ename": "TypeError",
     "evalue": "unsupported operand type(s) for +: 'int' and 'str'",
     "output_type": "error",
     "traceback": [
      "\u001b[1;31m---------------------------------------------------------------------------\u001b[0m",
      "\u001b[1;31mTypeError\u001b[0m                                 Traceback (most recent call last)",
      "Cell \u001b[1;32mIn[12], line 1\u001b[0m\n\u001b[1;32m----> 1\u001b[0m \u001b[43ma\u001b[49m\u001b[38;5;241;43m+\u001b[39;49m\u001b[43mb\u001b[49m\n",
      "\u001b[1;31mTypeError\u001b[0m: unsupported operand type(s) for +: 'int' and 'str'"
     ]
    }
   ],
   "source": [
    "a+b #producimos un error al tratar de sumar dos varibales de diferente tipo"
   ]
  },
  {
   "cell_type": "code",
   "execution_count": 13,
   "id": "08715ebf",
   "metadata": {},
   "outputs": [
    {
     "data": {
      "text/plain": [
       "int"
      ]
     },
     "execution_count": 13,
     "metadata": {},
     "output_type": "execute_result"
    }
   ],
   "source": [
    "type(a) #aquí solicitamos el type o tipo de la variable entre paréntesis"
   ]
  },
  {
   "cell_type": "code",
   "execution_count": 18,
   "id": "df5eae4c",
   "metadata": {},
   "outputs": [
    {
     "data": {
      "text/plain": [
       "int"
      ]
     },
     "execution_count": 18,
     "metadata": {},
     "output_type": "execute_result"
    }
   ],
   "source": [
    "a = 1\n",
    "b= 2.5\n",
    "c = 'Kassandra'\n",
    "\n",
    "type(a) #pedimos cada uno de los tipos de variables, logrando int, float y stg"
   ]
  },
  {
   "cell_type": "code",
   "execution_count": 23,
   "id": "31b3d9da",
   "metadata": {},
   "outputs": [
    {
     "name": "stdout",
     "output_type": "stream",
     "text": [
      "dame tu nombre abenr \n"
     ]
    },
    {
     "ename": "TypeError",
     "evalue": "can only concatenate str (not \"int\") to str",
     "output_type": "error",
     "traceback": [
      "\u001b[1;31m---------------------------------------------------------------------------\u001b[0m",
      "\u001b[1;31mTypeError\u001b[0m                                 Traceback (most recent call last)",
      "Cell \u001b[1;32mIn[23], line 6\u001b[0m\n\u001b[0;32m      3\u001b[0m nombre \u001b[38;5;241m=\u001b[39m \u001b[38;5;28minput\u001b[39m(\u001b[38;5;124m'\u001b[39m\u001b[38;5;124mdame tu nombre \u001b[39m\u001b[38;5;124m'\u001b[39m)\n\u001b[0;32m      4\u001b[0m edad \u001b[38;5;241m=\u001b[39m \u001b[38;5;241m25\u001b[39m\n\u001b[1;32m----> 6\u001b[0m \u001b[43mnombre\u001b[49m\u001b[38;5;241;43m+\u001b[39;49m\u001b[43medad\u001b[49m\n",
      "\u001b[1;31mTypeError\u001b[0m: can only concatenate str (not \"int\") to str"
     ]
    }
   ],
   "source": [
    "#para entender que no es posible realizar operaciones con dos tipos de variables, realizamos el siguiente ejercicio:\n",
    "\n",
    "nombre = input('dame tu nombre ')\n",
    "edad = 25\n",
    "\n",
    "nombre+edad\n"
   ]
  },
  {
   "cell_type": "code",
   "execution_count": 24,
   "id": "a8d70738",
   "metadata": {},
   "outputs": [
    {
     "ename": "TypeError",
     "evalue": "can only concatenate str (not \"int\") to str",
     "output_type": "error",
     "traceback": [
      "\u001b[1;31m---------------------------------------------------------------------------\u001b[0m",
      "\u001b[1;31mTypeError\u001b[0m                                 Traceback (most recent call last)",
      "Cell \u001b[1;32mIn[24], line 3\u001b[0m\n\u001b[0;32m      1\u001b[0m \u001b[38;5;66;03m#para poder realizar la operación, es necesario que todas las variables sean del mismo tipo, de forma:\u001b[39;00m\n\u001b[1;32m----> 3\u001b[0m \u001b[43mnombre\u001b[49m\u001b[38;5;241;43m+\u001b[39;49m\u001b[38;5;124;43m'\u001b[39;49m\u001b[38;5;124;43m tiene \u001b[39;49m\u001b[38;5;124;43m'\u001b[39;49m\u001b[38;5;241;43m+\u001b[39;49m\u001b[43medad\u001b[49m\u001b[38;5;241m+\u001b[39m\u001b[38;5;124m'\u001b[39m\u001b[38;5;124m años.\u001b[39m\u001b[38;5;124m'\u001b[39m\n",
      "\u001b[1;31mTypeError\u001b[0m: can only concatenate str (not \"int\") to str"
     ]
    }
   ],
   "source": [
    "#para poder realizar la operación, es necesario que todas las variables sean del mismo tipo, de forma:\n",
    "\n",
    "nombre+' tiene '+edad+' años.'"
   ]
  },
  {
   "cell_type": "code",
   "execution_count": 27,
   "id": "e4df4e68",
   "metadata": {},
   "outputs": [
    {
     "data": {
      "text/plain": [
       "'abenr  tiene 25 años.'"
      ]
     },
     "execution_count": 27,
     "metadata": {},
     "output_type": "execute_result"
    }
   ],
   "source": [
    "#para poder realizar la operación, es necesario que todas las variables sean del mismo tipo, de forma:\n",
    "\n",
    "nombre+' tiene '+str(edad)+' años.'"
   ]
  },
  {
   "cell_type": "markdown",
   "id": "0b9e6a2d",
   "metadata": {},
   "source": [
    "##### Var- Logicas"
   ]
  },
  {
   "cell_type": "code",
   "execution_count": 29,
   "id": "d6795af5",
   "metadata": {},
   "outputs": [
    {
     "data": {
      "text/plain": [
       "True"
      ]
     },
     "execution_count": 29,
     "metadata": {},
     "output_type": "execute_result"
    }
   ],
   "source": [
    "5 > 2 #preguntas de verdadero y falso que contiene python"
   ]
  },
  {
   "cell_type": "code",
   "execution_count": 30,
   "id": "8c9e00ec",
   "metadata": {},
   "outputs": [
    {
     "data": {
      "text/plain": [
       "False"
      ]
     },
     "execution_count": 30,
     "metadata": {},
     "output_type": "execute_result"
    }
   ],
   "source": [
    "4 == 4.00001"
   ]
  },
  {
   "cell_type": "code",
   "execution_count": 32,
   "id": "d269dddb",
   "metadata": {},
   "outputs": [
    {
     "data": {
      "text/plain": [
       "True"
      ]
     },
     "execution_count": 32,
     "metadata": {},
     "output_type": "execute_result"
    }
   ],
   "source": [
    "4 == 4.00000000000000000000000001 #aqui recreamos la combinación de verdadero y falso para el error de maquina"
   ]
  },
  {
   "cell_type": "code",
   "execution_count": 36,
   "id": "e47b46fd",
   "metadata": {},
   "outputs": [
    {
     "name": "stdout",
     "output_type": "stream",
     "text": [
      "username: abnerlugoo\n",
      "password: 2871997\n"
     ]
    },
    {
     "data": {
      "text/plain": [
       "True"
      ]
     },
     "execution_count": 36,
     "metadata": {},
     "output_type": "execute_result"
    }
   ],
   "source": [
    "username = \"abnerlugoo\"\n",
    "password = \"2871997\"\n",
    "\n",
    "user_username=input('username: ')\n",
    "user_password=input('password: ')\n",
    "\n",
    "username == user_username and password == user_password #realizamos un experimento de login para evaluar dos condiciones de verdadero y falso"
   ]
  },
  {
   "cell_type": "code",
   "execution_count": 43,
   "id": "76b06e9c",
   "metadata": {},
   "outputs": [
    {
     "name": "stdout",
     "output_type": "stream",
     "text": [
      "age: 41\n",
      "monthly colaboration: 29999\n"
     ]
    },
    {
     "data": {
      "text/plain": [
       "False"
      ]
     },
     "execution_count": 43,
     "metadata": {},
     "output_type": "execute_result"
    }
   ],
   "source": [
    "#para evaluar otras sentencias, creamos un código simulando una aplicación de matches tipo tinder, donde el usuario busca\n",
    "#sugar mommyies, el tiene determinado una edad máxima para aceptar candidatas y el mínimo de recaudación ofrecida para aceptar\n",
    "#en caso de que no cumplieran con la edad:\n",
    "\n",
    "nombre = 'abner'\n",
    "edad = 25\n",
    "\n",
    "#criterios de selección:\n",
    "edad_max = 40\n",
    "remuneracion_min = 30000\n",
    "\n",
    "#captura de datos de usuario:\n",
    "user_age = input('age: ')\n",
    "user_monthly = input('monthly colaboration: ')\n",
    "\n",
    "#modelo de clasificación:\n",
    "int(user_age) <= edad_max or int(user_monthly) >= remuneracion_min\n",
    "\n",
    "#al final, corrimos dos veces el programa, una colocando el primer valor de usuario por encima del minimo establecido para \n",
    "#obligar al programa a juzgar la segunda sentencia, la cual colocamos por debajo del minimo establecido, obteniendo un true\n",
    "#en el segundo caso, hicimos ambas capturas por debjo del mínimo declarado para obtener un false, en este tipo de criterio\n",
    "# en donde usamos or, al menos uno se debe cumplir, si queremos que se cumplan o cancelen ambas, debimos usar un and en lugar del or."
   ]
  },
  {
   "cell_type": "markdown",
   "id": "a3df7ad8",
   "metadata": {},
   "source": [
    "### 3.- Variables condicionales:"
   ]
  },
  {
   "cell_type": "code",
   "execution_count": 45,
   "id": "a763e5dd",
   "metadata": {},
   "outputs": [
    {
     "name": "stdout",
     "output_type": "stream",
     "text": [
      "edad: 10\n"
     ]
    },
    {
     "data": {
      "text/plain": [
       "False"
      ]
     },
     "execution_count": 45,
     "metadata": {},
     "output_type": "execute_result"
    }
   ],
   "source": [
    "#realizamos un ejercicio donde se pregunta al usurio su edad, para evaluar si está en rango de entrar o no al antro.\n",
    "\n",
    "edad = input('edad: ')\n",
    "edad = int(edad)\n",
    "\n",
    "edad >= 18"
   ]
  },
  {
   "cell_type": "markdown",
   "id": "ceb55cdf",
   "metadata": {},
   "source": [
    "##### En esta parte del curso, aprendimos la palabra indentar, lo cual no existe en español, pero es la palabra adaptada del ingles indentation que\n",
    "##### tiene relación con sangrar líneas."
   ]
  },
  {
   "cell_type": "code",
   "execution_count": 49,
   "id": "9efd2081",
   "metadata": {},
   "outputs": [
    {
     "name": "stdout",
     "output_type": "stream",
     "text": [
      "edad: 16\n",
      "Mamaste, no entras a Guanajuato Grill, el lugar favorito de Kassandra Zamora\n"
     ]
    }
   ],
   "source": [
    "##programa rápido para implementar if y else: \n",
    "edad = int(input('edad: '))\n",
    "if edad >= 18:\n",
    "    print('Puedes entrar, bienvenido a Guanajuato Grill, el lugar favorito de Kassandra Zamora')\n",
    "else: \n",
    "    print('Mamaste, no entras a Guanajuato Grill, el lugar favorito de Kassandra Zamora')"
   ]
  },
  {
   "cell_type": "code",
   "execution_count": 52,
   "id": "071b2c72",
   "metadata": {},
   "outputs": [
    {
     "name": "stdout",
     "output_type": "stream",
     "text": [
      "usuario: abnerlugoo\n",
      "contraseña: 2871997\n",
      "Bienvenido, acceso correcto.\n"
     ]
    }
   ],
   "source": [
    "#ejemplo similar al login hecho previamente, pero ahora con la sentencia del if:\n",
    "\n",
    "usuario = 'abnerlugoo'\n",
    "contraseña = '2871997'\n",
    "\n",
    "username = input('usuario: ')\n",
    "password = input('contraseña: ')\n",
    "\n",
    "if username == usuario and password == contraseña:\n",
    "    print('Bienvenido, acceso correcto.')\n",
    "else:\n",
    "    print('Error, datos erróneos.')"
   ]
  },
  {
   "cell_type": "code",
   "execution_count": 57,
   "id": "c2e0d12f",
   "metadata": {},
   "outputs": [
    {
     "name": "stdout",
     "output_type": "stream",
     "text": [
      "nombre del alumno: Abner\n",
      "calificación del alumno: 9\n",
      "El alumno: Abner tiene una calificación de: 9.0/10, por lo tanto, el alumno está: Aprobado\n"
     ]
    }
   ],
   "source": [
    "#aquí utilizamos la estructura if-else para agregar más condiciones, con un ejemplo de calificaciones:\n",
    "## 1-5 reprobado, 6 condicionado y 7-10 aprobado:\n",
    "\n",
    "nombre = input('nombre del alumno: ')\n",
    "calif = float(input('calificación del alumno: '))\n",
    "\n",
    "estado_alumno = ''\n",
    "#codigo de calificación:\n",
    "if calif < 6:\n",
    "    estado_alumno = 'Reprobado'\n",
    "elif calif == 6:\n",
    "    estado_alumno = 'Condicionado'\n",
    "else:\n",
    "    estado_alumno = 'Aprobado'\n",
    "    \n",
    "print(f'El alumno: {nombre} tiene una calificación de: {calif}/10, por lo tanto, el alumno está: {estado_alumno}')"
   ]
  },
  {
   "cell_type": "code",
   "execution_count": 62,
   "id": "c1522fcd",
   "metadata": {},
   "outputs": [
    {
     "name": "stdout",
     "output_type": "stream",
     "text": [
      "Dime tu país y te saludaré: Germany\n",
      "hallo vie wetz\n"
     ]
    }
   ],
   "source": [
    "#ejemplo exprés que se usó para entender el uso del elif\n",
    "#el elif es simplificar el uso de else e if, cuando se tienen más condiciones, en el ejemplo anterior solo existe uno puesto que\n",
    "#unicamente se están evaluando esos 3 rangos, pero si fueran más, se presentaría de la siguiente manera:\n",
    "\n",
    "nacionalidad = input('Dime tu país y te saludaré: ')\n",
    "if nacionalidad == 'México':\n",
    "    print('qué onda pa')\n",
    "elif nacionalidad == 'EEUU':\n",
    "    print('wassupp')\n",
    "elif nacionalidad == 'Germany':\n",
    "    print('hallo vie wetz')\n",
    "elif nacionalidad == 'Wakanda':\n",
    "    print('wakanda 4 ever')\n",
    "elif nacionalidad == 'Puebla':\n",
    "    print('quieres un polvorón?')\n",
    "else:\n",
    "    print('hey') #el else juega como el complemento de todo lo demás, por eso, no es posible realizarlo con if y else unicamente"
   ]
  },
  {
   "cell_type": "markdown",
   "id": "fdcca20e",
   "metadata": {},
   "source": [
    "### 4.- Listas"
   ]
  },
  {
   "cell_type": "code",
   "execution_count": 63,
   "id": "3a189c1a",
   "metadata": {},
   "outputs": [
    {
     "data": {
      "text/plain": [
       "9"
      ]
     },
     "execution_count": 63,
     "metadata": {},
     "output_type": "execute_result"
    }
   ],
   "source": [
    "empleados = ['Ernesto','Roberto','Ángel','Josué','Héctor','Emiliano','Delphos','Johana','Aimee']\n",
    "len(empleados)"
   ]
  },
  {
   "cell_type": "code",
   "execution_count": 64,
   "id": "c1d26a87",
   "metadata": {},
   "outputs": [
    {
     "data": {
      "text/plain": [
       "'Ernesto'"
      ]
     },
     "execution_count": 64,
     "metadata": {},
     "output_type": "execute_result"
    }
   ],
   "source": [
    "#para acceder a elementos de la lista: \n",
    "empleados[0] #esto está pasando porque python utiza 0 como elemento inicial"
   ]
  },
  {
   "cell_type": "code",
   "execution_count": 69,
   "id": "1c130192",
   "metadata": {},
   "outputs": [
    {
     "data": {
      "text/plain": [
       "['Roberto',\n",
       " 'Ángel',\n",
       " 'Josué',\n",
       " 'Héctor',\n",
       " 'Emiliano',\n",
       " 'Delphos',\n",
       " 'Johana',\n",
       " 'Aimee',\n",
       " 'Abner',\n",
       " 'Abner',\n",
       " 'Abner']"
      ]
     },
     "execution_count": 69,
     "metadata": {},
     "output_type": "execute_result"
    }
   ],
   "source": [
    "#agregar elementos a una lista: \n",
    "empleados.append('Abner')\n",
    "empleados"
   ]
  },
  {
   "cell_type": "code",
   "execution_count": 70,
   "id": "04289f92",
   "metadata": {},
   "outputs": [
    {
     "data": {
      "text/plain": [
       "['Roberto',\n",
       " 'Ángel',\n",
       " 'Josué',\n",
       " 'Héctor',\n",
       " 'Emiliano',\n",
       " 'Delphos',\n",
       " 'Johana',\n",
       " 'Aimee',\n",
       " 'Ernesto']"
      ]
     },
     "execution_count": 70,
     "metadata": {},
     "output_type": "execute_result"
    }
   ],
   "source": [
    "#eliminar elementos de una lista:\n",
    "empleados.remove('Abner')\n",
    "empleados.remove('Abner')\n",
    "empleados.remove('Abner')\n",
    "empleados.append('Ernesto')\n",
    "empleados"
   ]
  },
  {
   "cell_type": "markdown",
   "id": "f602d5ea",
   "metadata": {},
   "source": [
    "#### 5.- Ciclos:"
   ]
  },
  {
   "cell_type": "code",
   "execution_count": 73,
   "id": "c9e2041a",
   "metadata": {},
   "outputs": [
    {
     "name": "stdout",
     "output_type": "stream",
     "text": [
      "Te quiero mucho novia 1, eres única para mi\n",
      "Te quiero mucho novia 2, eres única para mi\n",
      "Te quiero mucho novia 3, eres única para mi\n"
     ]
    }
   ],
   "source": [
    "novias = ['novia 1','novia 2','novia 3']\n",
    "\n",
    "for n in novias: \n",
    "    print(f'Te quiero mucho {n}, eres única para mi')"
   ]
  },
  {
   "cell_type": "code",
   "execution_count": 80,
   "id": "a634bd94",
   "metadata": {},
   "outputs": [
    {
     "name": "stdout",
     "output_type": "stream",
     "text": [
      "queridísima: Alicia gracias por compartir estos 2 años a mi lado, me encanta como es que te gusta tanto jugar boliche\n",
      "queridísima: Gabriela gracias por compartir estos 4 años a mi lado, me encanta como es que te gusta tanto limpiar la casa\n",
      "queridísima: Daniela 3 gracias por compartir estos 1 años a mi lado, me encanta como es que te gusta tanto ir al cine\n"
     ]
    }
   ],
   "source": [
    "novias = [\n",
    "    ['Alicia',22,'jugar boliche'],\n",
    "    ['Gabriela',24,'limpiar la casa'],\n",
    "    ['Daniela 3',21,'ir al cine']\n",
    "]\n",
    "\n",
    "for n in novias:\n",
    "    print(f'queridísima: {n[0]} gracias por compartir estos {(n[1])-20} años a mi lado, me encanta como es que te gusta tanto {n[2]}')"
   ]
  },
  {
   "cell_type": "code",
   "execution_count": 86,
   "id": "014b3088",
   "metadata": {},
   "outputs": [
    {
     "name": "stdout",
     "output_type": "stream",
     "text": [
      "Ayer soñe conntigo Daniela 3, mañana nos vemos para ir al cine\n",
      "Ayer soñe conntigo Daniela 3, mañana nos vemos para ir al cine\n",
      "Ayer soñe conntigo Daniela 3, mañana nos vemos para ir al cine\n"
     ]
    }
   ],
   "source": [
    "novias = [\n",
    "    ['Alicia',22,'jugar boliche'],\n",
    "    ['Gabriela',24,'limpiar la casa'],\n",
    "    ['Daniela 3',21,'ir al cine']\n",
    "]\n",
    "\n",
    "for novia in novias:\n",
    "    print(f'Ayer soñe conntigo {n[0]}, mañana nos vemos para {n[2]}')"
   ]
  },
  {
   "cell_type": "code",
   "execution_count": 92,
   "id": "8cdfc7de",
   "metadata": {},
   "outputs": [
    {
     "name": "stdout",
     "output_type": "stream",
     "text": [
      "¿Cuánto ganas al mes?: 7000\n",
      "¿Cuánto gastas al mes?: 7400\n",
      "Es necesario que solicites un préstamos a alguna institución bancaria, pues estás en déficit debiendo: 400.0 pesos\n"
     ]
    }
   ],
   "source": [
    "#Ejemplo de Tarea:\n",
    "#1.- Elaborar programa que pregunte ingresos y egresos calcule el superávit e imprima si la persona genera\n",
    "#ganancias o requiere algún préstamo:\n",
    "\n",
    "\n",
    "ingresos = float(input('¿Cuánto ganas al mes?: '))\n",
    "egresos = float(input('¿Cuánto gastas al mes?: '))\n",
    "\n",
    "diferencia = ingresos - egresos\n",
    "\n",
    "if diferencia <= 0:\n",
    "    print(f'Es necesario que solicites un préstamos a alguna institución bancaria, pues estás en déficit debiendo: {diferencia*-1} pesos')\n",
    "else:\n",
    "    print(f'Tus finanzas se encuentran en buen estado, tu superávit es de: {diferencia} pesos')"
   ]
  },
  {
   "cell_type": "code",
   "execution_count": 100,
   "id": "989f5b33",
   "metadata": {},
   "outputs": [
    {
     "name": "stdout",
     "output_type": "stream",
     "text": [
      "indice de valores posibles a extraer: \n",
      "presiona 0 para recuperar nombre\n",
      "presiona 1 para recuperar edad\n",
      "presiona 2 para recuperar ciudad de origen\n",
      "presiona 3 para recuperar ocupación\n",
      "presiona 4 para recuperar salario\n",
      " \n",
      "SE RECUPERARÁ EL VALOR MÁXIMO DE LA LISTA:\n",
      "¿Qué valor deseas recuperar?:  4\n",
      "El valor máximo para ese valor es: \n"
     ]
    },
    {
     "data": {
      "text/plain": [
       "20300"
      ]
     },
     "execution_count": 100,
     "metadata": {},
     "output_type": "execute_result"
    }
   ],
   "source": [
    "#2.- Crear un programa para agregar ligues a una base de datos (lista de listas), agregar 3 cualidades\n",
    "#de la persona, construir un algoritmo para priorizar nuetra atención a esos ligues, basado en un atributo.\n",
    "\n",
    "#atributos: nombre, edad, ciudad de origen, profesión, salario mensual\n",
    "ligues = []\n",
    "\n",
    "novia1 = ['Mariana', 27,'Salamanca', 'Química', 6300]\n",
    "novia2 = ['Paola', 24,'Irapuato', 'Dentista', 8200]\n",
    "novia3 = ['Sofia', 23,'León', 'Ingeniería Amb', 11300]\n",
    "novia4 = ['Mariana', 32,'Guanajuato', 'Artista', 2200]\n",
    "novia5 = ['Verónica', 21,'Silao', 'Programador', 20300]\n",
    "\n",
    "ligues.append(novia1) #agremos elemntos a la lista para hacer uso de la función append, posteriormente\n",
    "ligues.append(novia2) #solicitamos lectura de la lista para confirmar que está bien organizada\n",
    "ligues.append(novia3)\n",
    "ligues.append(novia4)\n",
    "ligues.append(novia5)\n",
    "\n",
    "#criterio a maximizar y posteriormente a extraer:\n",
    "#aquí elegimos el elemento de la lista que deseamos extraer, agregamos una pregunta al usuario y brindamos\n",
    "#indice para selecciónar el dato a extraer y obtener el mayor.\n",
    "\n",
    "print('indice de valores posibles a extraer: ')\n",
    "print('presiona 0 para recuperar nombre')\n",
    "print('presiona 1 para recuperar edad')\n",
    "print('presiona 2 para recuperar ciudad de origen')\n",
    "print('presiona 3 para recuperar ocupación')\n",
    "print('presiona 4 para recuperar salario')\n",
    "print(' ')\n",
    "print('SE RECUPERARÁ EL VALOR MÁXIMO DE LA LISTA:')\n",
    "criterio = int(input('¿Qué valor deseas recuperar?:  '))\n",
    "\n",
    "valores = []\n",
    "for l in ligues:\n",
    "    valores.append(l[criterio])\n",
    "    \n",
    "print('El valor máximo para ese valor es: ')\n",
    "max(valores)"
   ]
  },
  {
   "cell_type": "markdown",
   "id": "37fd5af3",
   "metadata": {},
   "source": [
    "### hasta aquí la dejamos por hoy, mañana seguimos estudiando"
   ]
  }
 ],
 "metadata": {
  "kernelspec": {
   "display_name": "Python 3 (ipykernel)",
   "language": "python",
   "name": "python3"
  },
  "language_info": {
   "codemirror_mode": {
    "name": "ipython",
    "version": 3
   },
   "file_extension": ".py",
   "mimetype": "text/x-python",
   "name": "python",
   "nbconvert_exporter": "python",
   "pygments_lexer": "ipython3",
   "version": "3.10.9"
  }
 },
 "nbformat": 4,
 "nbformat_minor": 5
}
